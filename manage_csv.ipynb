{
 "cells": [
  {
   "cell_type": "code",
   "execution_count": 3,
   "metadata": {},
   "outputs": [],
   "source": [
    "import pandas as pd\n",
    "from datetime import datetime"
   ]
  },
  {
   "cell_type": "code",
   "execution_count": 4,
   "metadata": {},
   "outputs": [
    {
     "name": "stdout",
     "output_type": "stream",
     "text": [
      "2010-01-01 00:00:00\n",
      "<class 'pandas._libs.tslibs.timestamps.Timestamp'>\n",
      "True\n"
     ]
    }
   ],
   "source": [
    "filepath = '/home/tanetakumi/main/botter/historical_data/Dukas_USDJPY/USDJPY_1 Min_Bid_2010.01.01_2022.10.22.csv'\n",
    "reader = pd.read_csv(filepath, chunksize=50)\n",
    "df = reader.get_chunk(10)\n",
    "df['Time (UTC)'] = pd.to_datetime(df['Time (UTC)'])\n",
    "print(df.iat[0,0])\n",
    "print(type(df.iat[0,0]))\n",
    "print(df.iat[0,0] < datetime.now())"
   ]
  },
  {
   "cell_type": "code",
   "execution_count": 9,
   "metadata": {},
   "outputs": [
    {
     "name": "stdout",
     "output_type": "stream",
     "text": [
      "                      Open      High       Low     Close  test\n",
      "2015.01.02 01:01  1183.329  1184.010  1183.229  1183.670     5\n",
      "           01:02  1183.670  1183.929  1183.639  1183.919     4\n",
      "           01:03  1183.919  1184.159  1183.839  1184.000     8\n",
      "           01:04  1184.000  1184.110  1183.929  1183.999     7\n",
      "           01:05  1183.999  1183.999  1183.988  1183.998     3\n",
      "...                    ...       ...       ...       ...   ...\n",
      "2015.01.30 23:55  1283.571  1283.571  1283.352  1283.352     1\n",
      "           23:56  1283.352  1283.551  1283.352  1283.551     1\n",
      "           23:57  1283.551  1283.631  1283.421  1283.431     1\n",
      "           23:58  1283.431  1283.482  1282.830  1283.139     8\n",
      "           23:59  1283.139  1283.451  1283.052  1283.281     1\n",
      "\n",
      "[28749 rows x 5 columns]\n"
     ]
    }
   ],
   "source": [
    "import pandas as pd\n",
    "\n",
    "csv_input = pd.read_csv(filepath_or_buffer=\"./xauusd/XAUUSD_2015_01.csv\", encoding=\"ms932\", sep=\",\",header=0,names=('Open', 'High', 'Low','Close','Volume'))\n",
    "print(csv_input)"
   ]
  }
 ],
 "metadata": {
  "kernelspec": {
   "display_name": "Python 3.10.6 64-bit",
   "language": "python",
   "name": "python3"
  },
  "language_info": {
   "codemirror_mode": {
    "name": "ipython",
    "version": 3
   },
   "file_extension": ".py",
   "mimetype": "text/x-python",
   "name": "python",
   "nbconvert_exporter": "python",
   "pygments_lexer": "ipython3",
   "version": "3.10.6"
  },
  "orig_nbformat": 4,
  "vscode": {
   "interpreter": {
    "hash": "31f2aee4e71d21fbe5cf8b01ff0e069b9275f58929596ceb00d14d90e3e16cd6"
   }
  }
 },
 "nbformat": 4,
 "nbformat_minor": 2
}
