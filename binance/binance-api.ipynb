{
 "cells": [
  {
   "cell_type": "markdown",
   "metadata": {},
   "source": [
    "整合性の取れたBTCのデータ作成をしたい"
   ]
  },
  {
   "cell_type": "code",
   "execution_count": 2,
   "metadata": {},
   "outputs": [],
   "source": [
    "import requests\n",
    "import json\n",
    "import pandas as pd\n",
    "import time"
   ]
  },
  {
   "cell_type": "code",
   "execution_count": 16,
   "metadata": {},
   "outputs": [],
   "source": [
    "def chartTimeToInteger(chartTime):\n",
    "    if chartTime == \"1m\":\n",
    "        return 60\n",
    "    elif chartTime == \"5m\":\n",
    "        return 300\n",
    "    elif chartTime == \"15m\":\n",
    "        return 900\n",
    "    elif chartTime == \"1h\":\n",
    "        return 3600\n",
    "    elif chartTime == \"4h\":\n",
    "        return 14400\n",
    "    elif chartTime == \"1d\":\n",
    "        return 86400\n",
    "    else:\n",
    "        return 0\n",
    "\n",
    "def getCandleData(symbol, chartTime, num):\n",
    "    chartTimeNum = chartTimeToInteger(chartTime)\n",
    "    if chartTimeNum == 0:\n",
    "        print(\"時間足入力エラー[1m,5m,15m,1h,4h,1d]\")\n",
    "        raise Exception(\"時間足入力エラー[1m,5m,15m,1h,4h,1d]\")\n",
    "\n",
    "    stamps=int(time.time() - chartTimeNum*num)*1000\n",
    "    url=\"https://api.binance.com/api/v3/klines?symbol=\"+symbol+\"&interval=\"+chartTime+\"&startTime=\"+str(stamps)\n",
    "    res=requests.get(url)\n",
    "\n",
    "    # DataFrameの作成\n",
    "    df = pd.DataFrame(data=res.json(), columns=['OpenTime', 'Open', 'High' , 'Low' , 'Close' , 'Volume' , 'CloseTime' ,'A','B','C','D','E'])\n",
    "    df.drop(columns=['Volume','CloseTime','A','B','C','D','E'], axis=1, inplace=True)\n",
    "\n",
    "    # 時間のdatetime化\n",
    "    df['OpenTime'] = (df['OpenTime']/1000).astype('int64')\n",
    "    df['OpenTime'] = pd.to_datetime(df['OpenTime'],unit='s')\n",
    "\n",
    "    # Objectをfloatに変換\n",
    "    df['Open']  = df['Open'].astype(float, errors = 'raise')\n",
    "    df['Close'] = df['Close'].astype(float, errors = 'raise')\n",
    "    df['High']  = df['High'].astype(float, errors = 'raise')\n",
    "    df['Low']   = df['Low'].astype(float, errors = 'raise')\n",
    "    return df\n",
    "\n"
   ]
  },
  {
   "cell_type": "code",
   "execution_count": 10,
   "metadata": {},
   "outputs": [
    {
     "name": "stdout",
     "output_type": "stream",
     "text": [
      "2022-06-21 14:46:11.684208\n"
     ]
    }
   ],
   "source": [
    "from datetime import datetime as dt\n",
    "\n",
    "print(dt.fromtimestamp(time.time()))"
   ]
  },
  {
   "cell_type": "code",
   "execution_count": 13,
   "metadata": {},
   "outputs": [
    {
     "name": "stdout",
     "output_type": "stream",
     "text": [
      "2012-12-29 13:49:37\n"
     ]
    },
    {
     "data": {
      "text/plain": [
       "1356788977.0"
      ]
     },
     "execution_count": 13,
     "metadata": {},
     "output_type": "execute_result"
    }
   ],
   "source": [
    "tstr = '2012-12-29 13:49:37'\n",
    "tdatetime = dt.strptime(tstr, '%Y-%m-%d %H:%M:%S')\n",
    "print(tdatetime)\n",
    "tdatetime.timestamp()"
   ]
  },
  {
   "cell_type": "code",
   "execution_count": null,
   "metadata": {},
   "outputs": [],
   "source": [
    "url=\"https://api.binance.com/api/v3/klines?symbol=BTCUSDT&interval=3600&startTime=\"+str(stamps)\n",
    "res=requests.get(url)\n",
    "\n",
    "# DataFrameの作成\n",
    "df = pd.DataFrame(data=res.json(), columns=['OpenTime', 'Open', 'High' , 'Low' , 'Close' , 'Volume' , 'CloseTime' ,'A','B','C','D','E'])\n",
    "df.drop(columns=['Volume','CloseTime','A','B','C','D','E'], axis=1, inplace=True)"
   ]
  },
  {
   "cell_type": "code",
   "execution_count": 17,
   "metadata": {},
   "outputs": [
    {
     "name": "stdout",
     "output_type": "stream",
     "text": [
      "               OpenTime      Open      High       Low     Close\n",
      "0   2022-06-19 11:35:00  19797.79  19800.00  19666.11  19666.67\n",
      "1   2022-06-19 11:40:00  19666.68  19675.36  19573.30  19645.33\n",
      "2   2022-06-19 11:45:00  19645.33  19681.75  19595.98  19666.01\n",
      "3   2022-06-19 11:50:00  19666.01  19700.00  19660.02  19699.97\n",
      "4   2022-06-19 11:55:00  19699.96  19737.13  19676.02  19692.50\n",
      "..                  ...       ...       ...       ...       ...\n",
      "495 2022-06-21 04:50:00  20626.21  20657.39  20600.00  20631.22\n",
      "496 2022-06-21 04:55:00  20631.22  20707.41  20616.87  20656.17\n",
      "497 2022-06-21 05:00:00  20656.17  20706.88  20655.61  20680.68\n",
      "498 2022-06-21 05:05:00  20680.67  20684.37  20621.14  20642.17\n",
      "499 2022-06-21 05:10:00  20642.17  20659.42  20626.30  20653.98\n",
      "\n",
      "[500 rows x 5 columns]\n"
     ]
    }
   ],
   "source": [
    "print(getCandleData(\"BTCUSDT\",\"5m\",500))"
   ]
  },
  {
   "cell_type": "code",
   "execution_count": null,
   "metadata": {},
   "outputs": [],
   "source": []
  },
  {
   "cell_type": "code",
   "execution_count": 8,
   "metadata": {},
   "outputs": [],
   "source": [
    "res = requests.get(\"https://api.binance.com/api/v3/klines?symbol=BTCUSDT&interval=4h\")\n",
    "price_json = json.dumps(res.json(), indent=2)"
   ]
  },
  {
   "cell_type": "code",
   "execution_count": 12,
   "metadata": {},
   "outputs": [
    {
     "name": "stdout",
     "output_type": "stream",
     "text": [
      "                0         1         2         3         4            5   \\\n",
      "0    1648598400000  47434.79  47457.16  46445.42  47435.46   8942.75297   \n",
      "1    1648612800000  47435.46  47580.00  47140.46  47384.44   4722.32882   \n",
      "2    1648627200000  47384.44  47500.00  47064.81  47319.91   5439.23494   \n",
      "3    1648641600000  47319.92  47344.50  46869.00  47160.81   7265.53761   \n",
      "4    1648656000000  47160.82  47700.22  46831.81  47073.89   8802.69815   \n",
      "..             ...       ...       ...       ...       ...          ...   \n",
      "495  1655726400000  20801.79  21090.00  20364.33  20824.74  20540.92170   \n",
      "496  1655740800000  20824.74  20832.82  19832.95  20072.81  16553.12261   \n",
      "497  1655755200000  20072.80  20784.77  20001.53  20573.89  12171.48997   \n",
      "498  1655769600000  20573.90  20783.99  20348.40  20614.04  14312.34750   \n",
      "499  1655784000000  20614.04  20740.72  20474.41  20670.08   3123.70010   \n",
      "\n",
      "                6             7       8           9             10  11  \n",
      "0    1648612799999  4.207547e+08  207800  4904.58004  2.307569e+08   0  \n",
      "1    1648627199999  2.237975e+08  147700  2290.70032  1.085771e+08   0  \n",
      "2    1648641599999  2.573687e+08  152956  2680.76144  1.268464e+08   0  \n",
      "3    1648655999999  3.421275e+08  208862  3561.78865  1.677045e+08   0  \n",
      "4    1648670399999  4.162560e+08  212154  4309.38887  2.038036e+08   0  \n",
      "..             ...           ...     ...         ...           ...  ..  \n",
      "495  1655740799999  4.241588e+08  299656  9800.41490  2.024840e+08   0  \n",
      "496  1655755199999  3.344830e+08  282177  7878.06844  1.591887e+08   0  \n",
      "497  1655769599999  2.486662e+08  215035  6342.55036  1.295964e+08   0  \n",
      "498  1655783999999  2.941845e+08  200282  7202.73519  1.480216e+08   0  \n",
      "499  1655798399999  6.433500e+07   49022  1558.77826  3.211450e+07   0  \n",
      "\n",
      "[500 rows x 12 columns]\n"
     ]
    }
   ],
   "source": [
    "df = pd.read_json(price_json)\n",
    "print(df)"
   ]
  }
 ],
 "metadata": {
  "kernelspec": {
   "display_name": "Python 3.9.5 64-bit",
   "language": "python",
   "name": "python3"
  },
  "language_info": {
   "codemirror_mode": {
    "name": "ipython",
    "version": 3
   },
   "file_extension": ".py",
   "mimetype": "text/x-python",
   "name": "python",
   "nbconvert_exporter": "python",
   "pygments_lexer": "ipython3",
   "version": "3.9.5"
  },
  "orig_nbformat": 4,
  "vscode": {
   "interpreter": {
    "hash": "f9f85f796d01129d0dd105a088854619f454435301f6ffec2fea96ecbd9be4ac"
   }
  }
 },
 "nbformat": 4,
 "nbformat_minor": 2
}
